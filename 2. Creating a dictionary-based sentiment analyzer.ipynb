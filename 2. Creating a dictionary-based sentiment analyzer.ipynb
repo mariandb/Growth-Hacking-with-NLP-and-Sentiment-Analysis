{
 "cells": [
  {
   "cell_type": "markdown",
   "metadata": {
    "colab_type": "text",
    "id": "OeIHZdTXg03B"
   },
   "source": [
    "# Task 2: Creating Sentiment Analyzer"
   ]
  },
  {
   "cell_type": "code",
   "execution_count": 63,
   "metadata": {
    "colab": {},
    "colab_type": "code",
    "id": "PbiEgK7HS4L4"
   },
   "outputs": [],
   "source": [
    "# We only need the following librairies\n",
    "\n",
    "import pandas as pd\n",
    "#import Altair as alt\n",
    "import string\n",
    "import csv\n",
    "import ndjson"
   ]
  },
  {
   "cell_type": "code",
   "execution_count": 64,
   "metadata": {},
   "outputs": [],
   "source": [
    "df_small = pd.read_csv('./small_corpus.csv').sample(frac = 1, random_state = 0).reset_index(drop = True)"
   ]
  },
  {
   "cell_type": "code",
   "execution_count": 65,
   "metadata": {},
   "outputs": [
    {
     "name": "stdout",
     "output_type": "stream",
     "text": [
      "Index(['id', 'ratings', 'reviews'], dtype='object')\n",
      "       id  ratings                                            reviews\n",
      "0  167185      1.0  Bad Plastic.  Both triggers fell off due to de...\n",
      "1  128033      4.0  This game was made for those who already know ...\n",
      "2  345894      3.0  Another game for me that just doesn't meet my ...\n",
      "3  174410      3.0  Not quite the quality of the original and it d...\n",
      "4  160819      2.0  Perhaps i didn't give this game enough time, b...\n",
      "5  367924      1.0  You must be out of your mind to sell it for th...\n",
      "6  115113      1.0  I bought 2. I was hoping I could play the new ...\n",
      "7  398678      1.0  ***Buyer Beware!!*** I bought an adapter with ...\n",
      "8  406538      1.0  Shipping and everything was great- I preordere...\n",
      "9  463516      1.0  Didn't work at all with my Xbox.  Failed to ou...\n"
     ]
    },
    {
     "data": {
      "text/plain": [
       "count    4500.000000\n",
       "mean        3.000000\n",
       "std         1.699862\n",
       "min         1.000000\n",
       "25%         1.000000\n",
       "50%         3.000000\n",
       "75%         5.000000\n",
       "max         5.000000\n",
       "Name: ratings, dtype: float64"
      ]
     },
     "execution_count": 65,
     "metadata": {},
     "output_type": "execute_result"
    }
   ],
   "source": [
    "#df_small.head(5)\n",
    "print (df_small.keys())\n",
    "print (df_small.head(10))\n",
    "df_small['ratings'].describe()"
   ]
  },
  {
   "cell_type": "code",
   "execution_count": 15,
   "metadata": {},
   "outputs": [
    {
     "data": {
      "text/plain": [
       "<matplotlib.axes._subplots.AxesSubplot at 0x16655dc34c8>"
      ]
     },
     "execution_count": 15,
     "metadata": {},
     "output_type": "execute_result"
    },
    {
     "data": {
      "image/png": "[encoded data removed]",
      "text/plain": [
       "<Figure size 432x288 with 1 Axes>"
      ]
     },
     "metadata": {
      "needs_background": "light"
     },
     "output_type": "display_data"
    }
   ],
   "source": [
    "df_small.ratings.hist(bins = 100)"
   ]
  },
  {
   "cell_type": "markdown",
   "metadata": {
    "colab_type": "text",
    "id": "WyWqejm3hUE-"
   },
   "source": [
    "Cleaning Dataset"
   ]
  },
  {
   "cell_type": "code",
   "execution_count": 21,
   "metadata": {},
   "outputs": [
    {
     "name": "stdout",
     "output_type": "stream",
     "text": [
      "<p>There is a method for going in the other direction\n",
      "@Article{,\n",
      "    title = {Converting Odds Ratio to Relative Risk in Cohort Studies\n",
      "      with Partial Data Information},\n",
      "    author = {Zhu Wang},\n",
      "    journal = {Journal of Statistical Software},\n",
      "    year = {2013},\n",
      "    volume = {55},\n",
      "    number = {5},\n",
      "    pages = {1--11},\n",
      "    url = {<a href=\"http://www.jstatsoft.org/v55/i05/\" rel=\"nofollow\">http://www.jstatsoft.org/v55/i05/</a>},\n",
      "  }\n",
      "Not sure if this helps you as it would mean working in the relative risk scale. It has been implemented as an R package - search for orsk in the list of packages.</p>\n"
     ]
    }
   ],
   "source": [
    "test_text = '''<p>There is a method for going in the other direction\n",
    "@Article{,\n",
    "    title = {Converting Odds Ratio to Relative Risk in Cohort Studies\n",
    "      with Partial Data Information},\n",
    "    author = {Zhu Wang},\n",
    "    journal = {Journal of Statistical Software},\n",
    "    year = {2013},\n",
    "    volume = {55},\n",
    "    number = {5},\n",
    "    pages = {1--11},\n",
    "    url = {<a href=\"http://www.jstatsoft.org/v55/i05/\" rel=\"nofollow\">http://www.jstatsoft.org/v55/i05/</a>},\n",
    "  }\n",
    "Not sure if this helps you as it would mean working in the relative risk scale. It has been implemented as an R package - search for orsk in the list of packages.</p>'''\n",
    "print (test_text)"
   ]
  },
  {
   "cell_type": "code",
   "execution_count": 103,
   "metadata": {},
   "outputs": [],
   "source": [
    "# wieso gibts floats in reviews ???\n",
    "import re\n",
    "def data_cleaning (t):\n",
    "    t = str(t)\n",
    "    # rm line returns    \n",
    "    t = re.sub(\"[\\r\\n]+\",' ', t)\n",
    "    # rm urls\n",
    "    t = re.sub(\"http\\S+\",' ', t)\n",
    "    # rm mentions\n",
    "    t = re.sub(\"@\\S+\",' ', t)\n",
    "    # rm some of the punctuation but keep ,.!? and -\n",
    "    remove = '\"#$%&()*+/:;<=>@[\\\\]^_`{|}~”“'\n",
    "    pattern = r\"[{}]\".format(remove)\n",
    "    #print (pattern)\n",
    "    t = re.sub(pattern,' ', t)\n",
    "    # rm ,.!?\n",
    "    #pattern = ',.!?'\n",
    "    #t = re.sub(pattern,' ', t)\n",
    "    # # rm multiple spaces\n",
    "    t = re.sub(\"\\s\\s+\",' ', t) \n",
    "    # finally remove trailing spaces with strip()\n",
    "    t = t.strip()   \n",
    "    return t\n",
    "\n",
    "def data_normalize (t):\n",
    "    t = t.lower()    \n",
    "    return t"
   ]
  },
  {
   "cell_type": "code",
   "execution_count": 40,
   "metadata": {},
   "outputs": [
    {
     "name": "stdout",
     "output_type": "stream",
     "text": [
      "p There is a method for going in the other direction title Converting Odds Ratio to Relative Risk in Cohort Studies with Partial Data Information author Zhu Wang journal Journal of Statistical Software year 2013 volume 55 number 5 pages 1--11 url a href rel nofollow Not sure if this helps you as it would mean working in the relative risk scale. It has been implemented as an R package - search for orsk in the list of packages. p\n",
      "p there is a method for going in the other direction title converting odds ratio to relative risk in cohort studies with partial data information author zhu wang journal journal of statistical software year 2013 volume 55 number 5 pages 1--11 url a href rel nofollow not sure if this helps you as it would mean working in the relative risk scale. it has been implemented as an r package - search for orsk in the list of packages. p\n"
     ]
    }
   ],
   "source": [
    "cleaned_text = data_cleaning (test_text)\n",
    "print (cleaned_text)\n",
    "cleaned_text = data_normalize (cleaned_text)\n",
    "print (cleaned_text)"
   ]
  },
  {
   "cell_type": "code",
   "execution_count": 104,
   "metadata": {},
   "outputs": [
    {
     "name": "stdout",
     "output_type": "stream",
     "text": [
      "Bad Plastic.  Both triggers fell off due to deteriorated plastic in less a month.  Useless.\n",
      "bad plastic. both triggers fell off due to deteriorated plastic in less a month. useless.\n"
     ]
    }
   ],
   "source": [
    "print (df_small.reviews[0])\n",
    "df_small['cleaned_reviews'] = df_small.reviews.apply(lambda t : data_cleaning(t) )\n",
    "df_small['cleaned_reviews'] = df_small.cleaned_reviews.apply(lambda t : data_normalize(t) )\n",
    "print (df_small.cleaned_reviews[0])"
   ]
  },
  {
   "cell_type": "code",
   "execution_count": 105,
   "metadata": {},
   "outputs": [
    {
     "name": "stderr",
     "output_type": "stream",
     "text": [
      "[nltk_data] Downloading package punkt to\n",
      "[nltk_data]     C:\\Users\\mdb\\AppData\\Roaming\\nltk_data...\n",
      "[nltk_data]   Package punkt is already up-to-date!\n"
     ]
    },
    {
     "data": {
      "text/plain": [
       "True"
      ]
     },
     "execution_count": 105,
     "metadata": {},
     "output_type": "execute_result"
    }
   ],
   "source": [
    "import nltk\n",
    "from nltk.tokenize import sent_tokenize\n",
    "from nltk.tokenize import word_tokenize\n",
    "nltk.download('punkt')"
   ]
  },
  {
   "cell_type": "code",
   "execution_count": 114,
   "metadata": {},
   "outputs": [
    {
     "name": "stdout",
     "output_type": "stream",
     "text": [
      "p There is a method for going in the other direction title Converting Odds Ratio to Relative Risk in Cohort Studies with Partial Data Information , author Zhu Wang , journal Journal of Statistical Software , year 2013 , volume 55 , number 5 , pages 1--11 , url a href rel nofollow Not sure if this helps you as it would mean working in the relative risk scale. It has been implemented as an R package - search for orsk in the list of packages. p\n",
      "['p There is a method for going in the other direction title Converting Odds Ratio to Relative Risk in Cohort Studies with Partial Data Information , author Zhu Wang , journal Journal of Statistical Software , year 2013 , volume 55 , number 5 , pages 1--11 , url a href rel nofollow Not sure if this helps you as it would mean working in the relative risk scale.', 'It has been implemented as an R package - search for orsk in the list of packages.', 'p']\n",
      "['p', 'There', 'is', 'a', 'method', 'for', 'going', 'in', 'the', 'other', 'direction', 'title', 'Converting', 'Odds', 'Ratio', 'to', 'Relative', 'Risk', 'in', 'Cohort', 'Studies', 'with', 'Partial', 'Data', 'Information', ',', 'author', 'Zhu', 'Wang', ',', 'journal', 'Journal', 'of', 'Statistical', 'Software', ',', 'year', '2013', ',', 'volume', '55', ',', 'number', '5', ',', 'pages', '1', '--', '11', ',', 'url', 'a', 'href', 'rel', 'nofollow', 'Not', 'sure', 'if', 'this', 'helps', 'you', 'as', 'it', 'would', 'mean', 'working', 'in', 'the', 'relative', 'risk', 'scale', '.', 'It', 'has', 'been', 'implemented', 'as', 'an', 'R', 'package', '-', 'search', 'for', 'orsk', 'in', 'the', 'list', 'of', 'packages', '.', 'p']\n"
     ]
    }
   ],
   "source": [
    "cleaned_text = data_cleaning (test_text)\n",
    "print (cleaned_text)\n",
    "sent = sent_tokenize(cleaned_text)\n",
    "print (sent)\n",
    "#words = word_tokenize (sent)\n",
    "words = [w for s in sent for w in word_tokenize(s)]\n",
    "print (words)\n"
   ]
  },
  {
   "cell_type": "code",
   "execution_count": 137,
   "metadata": {},
   "outputs": [
    {
     "name": "stdout",
     "output_type": "stream",
     "text": [
      "['p', 'There', 'is', 'a', 'method', 'for', 'going', 'in', 'the', 'other', 'direction', 'title', 'Converting', 'Odds', 'Ratio', 'to', 'Relative', 'Risk', 'in', 'Cohort', 'Studies', 'with', 'Partial', 'Data', 'Information', ',', 'author', 'Zhu', 'Wang', ',', 'journal', 'Journal', 'of', 'Statistical', 'Software', ',', 'year', '2013', ',', 'volume', '55', ',', 'number', '5', ',', 'pages', '1', '--', '11', ',', 'url', 'a', 'href', 'rel', 'nofollow', 'Not', 'sure', 'if', 'this', 'helps', 'you', 'as', 'it', 'would', 'mean', 'working', 'in', 'the', 'relative', 'risk', 'scale', '.', 'It', 'has', 'been', 'implemented', 'as', 'an', 'R', 'package', '-', 'search', 'for', 'orsk', 'in', 'the', 'list', 'of', 'packages', '.', 'p']\n"
     ]
    }
   ],
   "source": [
    "cleaned_text = data_cleaning (test_text)\n",
    "words = [w for w in word_tokenize(cleaned_text)]\n",
    "print (words)"
   ]
  },
  {
   "cell_type": "code",
   "execution_count": 108,
   "metadata": {},
   "outputs": [
    {
     "name": "stdout",
     "output_type": "stream",
     "text": [
      "id                                                            167185\n",
      "ratings                                                            1\n",
      "reviews            Bad Plastic.  Both triggers fell off due to de...\n",
      "cleaned_reviews    bad plastic. both triggers fell off due to det...\n",
      "sent               [bad plastic., both triggers fell off due to d...\n",
      "Name: 0, dtype: object\n",
      "Index(['id', 'ratings', 'reviews', 'cleaned_reviews', 'sent'], dtype='object')\n"
     ]
    }
   ],
   "source": [
    "df_small['sent'] = df_small.cleaned_reviews.apply (lambda t: sent_tokenize(t))"
   ]
  },
  {
   "cell_type": "code",
   "execution_count": 116,
   "metadata": {},
   "outputs": [
    {
     "name": "stdout",
     "output_type": "stream",
     "text": [
      "id                                                            167185\n",
      "ratings                                                            1\n",
      "reviews            Bad Plastic.  Both triggers fell off due to de...\n",
      "cleaned_reviews    bad plastic. both triggers fell off due to det...\n",
      "sent               [bad plastic., both triggers fell off due to d...\n",
      "words              [bad, plastic, ., both, triggers, fell, off, d...\n",
      "Name: 0, dtype: object\n"
     ]
    }
   ],
   "source": [
    "df_small['words'] = df_small.sent.apply (lambda t: [w for s in t for w in word_tokenize(s)])"
   ]
  },
  {
   "cell_type": "code",
   "execution_count": 117,
   "metadata": {},
   "outputs": [
    {
     "name": "stdout",
     "output_type": "stream",
     "text": [
      "id                                                            167185\n",
      "ratings                                                            1\n",
      "reviews            Bad Plastic.  Both triggers fell off due to de...\n",
      "cleaned_reviews    bad plastic. both triggers fell off due to det...\n",
      "sent               [bad plastic., both triggers fell off due to d...\n",
      "words              [bad, plastic, ., both, triggers, fell, off, d...\n",
      "Name: 0, dtype: object\n"
     ]
    }
   ],
   "source": [
    "print (df_small.iloc[0])"
   ]
  },
  {
   "cell_type": "code",
   "execution_count": 121,
   "metadata": {},
   "outputs": [
    {
     "name": "stderr",
     "output_type": "stream",
     "text": [
      "[nltk_data] Downloading package opinion_lexicon to\n",
      "[nltk_data]     C:\\Users\\mdb\\AppData\\Roaming\\nltk_data...\n",
      "[nltk_data]   Unzipping corpora\\opinion_lexicon.zip.\n"
     ]
    },
    {
     "data": {
      "text/plain": [
       "True"
      ]
     },
     "execution_count": 121,
     "metadata": {},
     "output_type": "execute_result"
    }
   ],
   "source": [
    "# was ist mit stop words ?\n",
    "from nltk.corpus import opinion_lexicon\n",
    "nltk.download('opinion_lexicon')"
   ]
  },
  {
   "cell_type": "code",
   "execution_count": 126,
   "metadata": {},
   "outputs": [
    {
     "name": "stdout",
     "output_type": "stream",
     "text": [
      "{'exhilarating', 'gracious', 'prominent', 'soft', 'pamperedness', 'luxuriate', 'appreciated', 'hallmarks', 'surreal', 'groundbreaking', 'effectively', 'cooperative', 'awesomeness', 'simplified', 'enliven', 'righten', 'outsmart', 'likable', 'unabashed', 'sweetly', 'impartiality', 'evenly', 'rockstar', 'humorously', 'illustrious', 'excitedness', 'attraction', 'entrust', 'affirm', 'richly', 'plush', 'famed', 'laud', 'credence', 'understandable', 'freed', 'respectable', 'sweeping', 'nicer', 'flexible', 'deft', 'covenant', 'free', 'reliably', 'smoothes', 'sustainability', 'mercy', 'adorable', 'beauty', 'fervent', 'enlightenment', 'handily', 'cleanliness', 'solicitous', 'satisfying', 'right', 'profuse', 'exceeding', 'erudite', 'liking', 'bullish', 'felicity', 'awsome', 'courageousness', 'rejuvenated', 'glamorous', 'aspire', 'alluringly', 'patient', 'morality', 'pepped', 'wholeheartedly', 'excitedly', 'victorious', 'gladly', 'swift', 'soundly', 'ovation', 'auspicious', 'guidance', 'amazingly', 'angelic', 'yay', 'obtainable', 'savior', 'amenable', 'luckier', 'stirringly', 'godsend', 'cherish', 'altruistic', 'inpressed', 'sturdier', 'hilarious', 'rejoicing', 'luck', 'loyalty', 'stately', 'entertains', 'boost', 'eloquent', 'self-respect', 'fantastically', 'desiring', 'regally', 'endorse', 'soothingly', 'cashbacks', 'bright', 'light-hearted', 'ingenuous', 'simplifying', 'defender', 'recommended', 'wholesome', 'liberate', 'winnable', 'glad', 'maneuverable', 'exceled', 'reputation', 'gaining', 'ebullience', 'productively', 'desirous', 'dignity', 'hands-down', 'undisputably', 'gifted', 'low-risk', 'tantalize', 'righteous', 'phenomenal', 'faithfulness', 'portable', 'unbeatable', 'gems', 'frugal', 'blameless', 'youthful', 'foresight', 'righteously', 'agility', 'cheerful', 'exaltedly', 'afordable', 'benifits', 'praising', 'surpass', 'felicitate', 'outshine', 'revelation', 'exceed', 'intrigue', 'amusingly', 'joy', 'tenacious', 'educated', 'affinity', 'accomodative', 'apotheosis', 'excelled', 'noiseless', 'entice', 'luxurious', 'romanticize', 'efficient', 'lustrous', 'straightforward', 'priceless', 'entrancing', 'calming', 'mightily', 'rapture', 'nice', 'keen', 'justly', 'empathy', 'assure', 'darling', 'lighter', 'godlike', 'inspirational', 'distinguished', 'intelligible', 'instructive', 'delightfully', 'bonuses', 'eyecatching', 'excellant', 'luckiest', 'gain', 'euphorically', 'excited', 'rapid', 'evaluative', 'woo', 'speedy', 'rejoice', 'sumptuous', 'rightly', 'high-spirited', 'radiance', 'magnificently', 'pep', 'gratitude', 'exemplar', 'playfully', 'proactive', 'adventurous', 'extol', 'savvy', 'heros', 'excel', 'soothe', 'steadiness', 'blessing', 'satisfy', 'shimmeringly', 'ingeniously', 'praiseworthy', 'radiant', 'eye-catch', 'beautifully', 'fashionably', 'distinctive', 'wonderful', 'congratulatory', 'low-price', 'blissfully', 'facilitate', 'rightful', 'easy', 'improvement', 'purify', 'believeable', 'euphoric', 'gladness', 'ecstatic', 'benevolence', 'titillating', 'coolest', 'faster', 'best', 'rapt', 'beautiful', 'mastery', 'worth-while', 'rightfully', 'fond', 'hospitable', 'outperforming', 'jovial', 'insightfully', 'sufficient', 'enjoyed', 'happily', 'immense', 'virtuously', 'beneficiary', 'hotcake', 'adulate', 'clearly', 'hale', 'passionate', 'ambitious', 'rejuvenating', 'alluring', 'brisk', 'breathtakingly', 'reassurance', 'delicacy', 'ideal', 'dedicated', 'abound', 'believable', 'revolutionized', 'sensational', 'subsidized', 'compliant', 'spellbindingly', 'virtuous', 'dreamland', 'lovably', 'swankier', 'successfully', 'neatly', 'adequate', 'delight', 'pre-eminent', 'winners', 'precise', 'amuse', 'righteousness', 'god-given', 'invaluable', 'invaluablely', 'well-behaved', 'reforms', 'rock-star', 'smoothest', 'comely', 'mesmerize', 'large-capacity', 'multi-purpose', 'low-priced', 'plentiful', 'affluence', 'reputable', 'sensations', 'reliable', 'ease', 'sustainable', 'capably', 'excellency', 'fascinating', 'judicious', 'loyal', 'magnificence', 'classy', 'correctly', 'compliment', 'champ', 'top', 'congenial', 'promising', 'peace', 'achievable', 'reward', 'fascination', 'fluent', 'influential', 'ebulliently', 'renowned', 'exalted', 'vigilance', 'durable', 'splendidly', 'constructive', 'tempt', 'freedom', 'mind-blowing', 'resolute', 'prudence', 'heartily', 'issue-free', 'unequivocally', 'non-violent', 'sophisticated', 'exultation', 'amazes', 'insightful', 'subsidizes', 'impressed', 'straighten', 'futuristic', 'well-rounded', 'willingly', 'agreeable', 'resound', 'affection', 'rational', 'openly', 'beckoned', 'appreciates', 'amity', 'individualized', 'thrilled', 'gracefully', 'readable', 'positives', 'state-of-the-art', 'equitable', 'intriguing', 'illumine', 'civilize', 'ingenuity', 'celebrated', 'smile', 'charismatic', 'complimentary', 'inventive', 'overjoyed', 'skilled', 'fiery', 'bonny', 'favour', 'shine', 'positive', 'astoundingly', 'magnificent', 'civility', 'rosy', 'respectfully', 'best-performing', 'compactly', 'subsidizing', 'harmony', 'stability', 'suavely', 'astonished', 'pleasingly', 'intricate', 'inviolable', 'super', 'honorable', 'impresses', 'enthralled', 'integrated', 'sparkle', 'nimble', 'joyously', 'worthiness', 'instantly', 'jaw-droping', 'fervidly', 'fancy', 'congratulate', 'accomplishment', 'sensibly', 'cherub', 'award', 'fondly', 'expeditiously', 'luckiness', 'jubilate', 'supurb', 'matchless', 'successful', 'clearer', 'enchant', 'cleaner', 'worthwhile', 'delectable', 'lover', 'saintly', 'saver', 'reforming', 'enthrall', 'amenity', 'prefers', 'engrossing', 'futurestic', 'willingness', 'zenith', 'a+', 'illuminate', 'endorsement', 'heartening', 'miracle', 'invulnerable', 'extraordinarily', 'thoughtfully', 'master', 'preferably', 'booming', 'conciliate', 'steadiest', 'toll-free', 'trustworthiness', 'undisputable', 'all-around', 'enchantingly', 'beckons', 'brand-new', 'succeed', 'better-known', 'hearten', 'unmatched', 'wonderously', 'adaptable', 'elegant', 'unselfish', 'nicest', 'eloquently', 'defeated', 'resplendent', 'dotingly', 'handsome', 'patiently', 'trivially', 'gutsy', 'convenient', 'elation', 'tenderly', 'topnotch', 'prodigious', 'maturity', 'responsibly', 'remedy', 'breathtaking', 'paramount', 'good', 'supporting', 'eagerly', 'exceedingly', 'smoothly', 'unencumbered', 'staunchly', 'greatness', 'valuable', 'remunerate', 'undaunted', 'gratification', 'counter-attack', 'elated', 'affable', 'prominence', 'revel', 'progressive', 'jubilantly', 'overtakes', 'magical', 'impeccably', 'industrious', 'zest', 'notably', 'dumbfounded', 'patriotic', 'patience', 'ardor', 'empower', 'surmount', 'helpful', 'tickle', 'graciousness', 'bless', 'cost-saving', 'overture', 'revives', 'opulent', 'luster', 'adventuresome', 'problem-free', 'valor', 'unabashedly', 'playful', 'wowing', 'enthral', 'amiabily', 'best-selling', 'correct', 'delighted', 'heaven', 'fresh', 'accomplishments', 'charitable', 'outperform', 'kudos', 'reasonably', 'god-send', 'exult', 'delightful', 'marvels', 'thoughtfulness', 'modern', 'first-in-class', 'diligent', 'win', 'commendably', 'liberation', 'dashing', 'smilingly', 'energetic', 'dexterously', 'enviousness', 'upscale', 'accomplish', 'hottest', 'polite', 'trendy', 'invigorating', 'finer', 'panoramic', 'gleefully', 'flourish', 'protect', 'vouchsafe', 'hardy', 'enough', 'celebratory', 'upgraded', 'faith', 'sweetheart', 'conscientious', 'brilliantly', 'sincerity', 'halcyon', 'wowed', 'enjoy', 'laudable', 'approve', 'brilliances', 'happiness', 'inexpensive', 'tremendously', 'triumphantly', 'whoa', 'posh', 'assurance', 'harmless', 'lucid', 'acclaim', 'cleanly', 'snazzy', 'glistening', 'cleared', 'easiest', 'endorsed', 'geekier', 'sensitive', 'enhances', 'gloriously', 'selective', 'romantic', 'pleased', 'monumentally', 'audible', 'wieldy', 'liberty', 'earnest', 'cleverly', 'staunch', 'applaud', 'renown', 'trump', 'support', 'readily', 'simplest', 'elite', 'fast-paced', 'magnanimously', 'lifesaver', 'comfort', 'outperformed', 'memorable', 'fine-looking', 'stunningly', 'recommendations', 'overtake', 'astonishingly', 'seasoned', 'gainfully', 'jaw-dropping', 'enjoys', 'flatter', 'beneficial', 'stupendously', 'genuine', 'handier', 'inestimably', 'faultless', 'grace', 'togetherness', 'slick', 'promise', 'affably', 'romantically', 'peaceable', 'promoter', 'merciful', 'mighty', 'prodigiously', 'refund', 'affectation', 'keenly', 'unquestionable', 'decisiveness', 'record-setting', 'hooray', 'tidy', 'appropriate', 'refreshing', 'adaptive', 'resourceful', 'endorses', 'motivated', 'hallowed', 'intuitive', 'terrifically', 'divinely', 'reassure', 'secure', 'spectacularly', 'excellence', 'elatedly', 'convincing', 'calmness', 'remission', 'brainy', 'exaltingly', 'glisten', 'enthusiast', 'recommendation', 'comprehensive', 'revolutionizes', 'loved', 'appealing', 'brilliant', 'prosper', 'hardier', 'purposeful', 'rock-stars', 'convenience', 'altruistically', 'exhilaratingly', 'homage', 'sharpest', 'finest', 'enterprising', 'masterful', 'keenness', 'saint', 'empowerment', 'luxury', 'unreal', 'advocate', 'enthusiastically', 'comfortably', 'elate', 'smartest', 'humorous', 'gorgeously', 'celebrate', 'accurately', 'statuesque', 'cost-effective', 'irreproachable', 'smooth', 'liked', 'interests', 'ilu', 'merriment', 'joyous', 'resounding', 'well-wishers', 'warmer', 'effortless', 'considerate', 'dominated', 'exciting', 'awesomely', 'honesty', 'heartwarming', 'prettily', 'endearing', 'navigable', 'harmonious', 'stunning', 'attractive', 'tender', 'feat', 'willing', 'superb', 'meticulously', 'prefer', 'zeal', 'sensible', 'silent', 'fervently', 'improvements', 'restructuring', 'poignant', 'breakthroughs', 'splendor', 'painless', 'preeminent', 'lead', 'magnanimous', 'creative', 'excelent', 'wonder', 'admirable', 'spacious', 'skillfully', 'electrify', 'fame', 'favorable', 'obsession', 'tenacity', 'crisper', 'wellbeing', 'poise', 'cornerstone', 'acumen', 'adulation', 'outperforms', 'jubilant', 'unwavering', 'enjoying', 'enjoyably', 'effectual', 'levity', 'spellbind', 'upliftment', 'dummy-proof', 'cheery', 'impressively', 'joyful', 'sublime', 'unparalleled', 'pros', 'accessible', 'tempting', 'compatible', 'trusty', 'adjustable', 'simplifies', 'adroit', 'brightest', 'magic', 'fast', 'modesty', 'seamless', 'sumptuousness', 'pampered', 'agreeably', 'flawlessly', 'fascinate', 'optimal', 'exemplary', 'wealthy', 'twinkly', 'lawfully', 'famous', 'intelligent', 'affluent', 'promptly', 'exhilarate', 'roomier', 'problem-solver', 'success', 'efficacious', 'gold', 'luminous', 'enrapture', 'realistic', 'immaculate', 'profound', 'cheapest', 'lovely', 'hotcakes', 'effusion', 'encouragement', 'eyecatch', 'err-free', 'trustingly', 'invigorate', 'superbly', 'harmoniously', 'admirer', 'usable', 'uncomplicated', 'spotless', 'popular', 'adroitly', 'exuberantly', 'spellbound', 'suitable', 'maturely', 'spirited', 'fearlessly', 'tingle', 'well-made', 'pretty', 'rewardingly', 'joyfully', 'healthy', 'delicious', 'outshone', 'engaging', 'regal', 'appeal', 'softer', 'inviolate', 'admiration', 'heroine', 'non-violence', 'verifiable', 'achievible', 'sprightly', 'compassionate', 'wisely', 'ultra-crisp', 'unity', 'richer', 'incredibly', 'best-known', 'shiny', 'renaissance', 'regard', 'overtaking', 'strongest', 'gaiety', 'intimacy', 'truthfulness', 'rectify', 'whooa', 'ftw', 'miraculous', 'temptingly', 'dirt-cheap', 'enviably', 'cleanest', 'smartly', 'upliftingly', 'ingenuously', 'flatteringly', 'smarter', 'exaltation', 'sumptuously', 'survivor', 'snappy', 'clear-cut', 'sufficed', 'first-class', 'uplift', 'acclamation', 'distinction', 'modest', 'wisdom', 'approval', 'cheaper', 'courageous', 'consummate', 'powerful', 'wise', 'beneficent', 'enthuse', 'staunchness', 'cajole', 'winner', 'expertly', 'courage', 'bountiful', 'work', 'warmth', 'tantalizingly', 'windfall', 'firmer', 'favor', 'wows', 'phenomenally', 'enticing', 'restructured', 'outstrip', 'personages', 'trumpet', 'unaffected', 'fancinating', 'cushy', 'proven', 'amazed', 'hail', 'solid', 'aspirations', 'mesmerized', 'prestige', 'humble', 'benefit', 'sagely', 'serenity', 'succeeding', 'dominates', 'nifty', 'idolize', 'legendary', 'privileged', 'revolutionize', 'fervor', 'buoyant', 'superior', 'bolster', 'handy', 'lyrical', 'deference', 'significant', 'lionhearted', 'angel', 'dead-cheap', 'well-known', 'counter-attacks', 'entranced', 'foremost', 'transparent', 'titillatingly', 'gratified', 'conveniently', 'punctual', 'amiable', 'available', 'edify', 'euphoria', 'trust', 'lucidly', 'hallmark', 'awesome', 'politeness', 'effectiveness', 'entertain', 'mesmerizingly', 'lawful', 'defeating', 'guiltless', 'healthful', 'exquisitely', 'lucrative', 'venerate', 'eased', 'exceptional', 'stimulates', 'thrift', 'thank', 'gains', 'marvelousness', 'stellarly', 'benefits', 'standout', 'lush', 'swank', 'improved', 'well-mannered', 'revitalize', 'workable', 'commitment', 'energy-saving', 'nurturing', 'dexterous', 'manageable', 'empathize', 'replaceable', 'enlighten', 'affability', 'rightness', 'sane', 'gainful', 'autonomous', 'thinner', 'finely', 'suave', 'aspiration', 'excite', 'veritable', 'courageously', 'gush', 'enviable', 'self-satisfaction', 'infallibility', 'masterpieces', 'prosperity', 'leads', 'superiority', 'jollify', 'well-bred', 'greatest', 'awe', 'effortlessly', 'outdone', 'vibrantly', 'thrive', 'positively', 'pride', 'lean', 'solidarity', 'abundant', 'promises', 'impressiveness', 'generosity', 'reachable', 'steady', 'noteworthy', 'exuberant', 'jubilation', 'capable', 'safe', 'enraptured', 'respectful', 'accurate', 'valiant', 'prudently', 'cohere', 'titillate', 'unforgettable', 'endear', 'articulate', 'well-positioned', 'rockstars', 'diplomatic', 'undisputed', 'reverently', 'excites', 'delicate', 'speedily', 'delightfulness', 'successes', 'marvelous', 'tranquility', 'flashy', 'elegance', 'glimmer', 'clear', 'comfy', 'fecilitous', 'helping', 'stimulate', 'admirably', 'overtook', 'earnestly', 'clears', 'grateful', 'graceful', 'important', 'reformed', 'relent', 'defeat', 'exultant', 'paradise', 'carefree', 'energize', 'dependably', 'fastest', 'properly', 'invincibility', 'tenaciously', 'glowing', 'refined', 'gorgeous', 'deserving', 'goodwill', 'steadfast', 'majestic', 'accomplished', 'complemented', 'excellently', 'beutifully', 'humour', 'serene', 'blissful', 'optimistic', 'commendable', 'pampers', 'integral', 'favorited', 'meritorious', 'indulgent', 'imaculate', 'vigilant', 'easier', 'well-educated', 'glorious', 'sincerely', 'reverent', 'enrapt', 'advanced', 'astutely', 'thriving', 'masterfully', 'strong', 'preferable', 'smiles', 'innovative', 'unconditional', 'wow', 'survival', 'tops', 'enthusiastic', 'ecstatically', 'steadfastly', 'cohesive', 'eventful', 'heroic', 'precious', 'enhancement', 'eye-catching', 'enchanted', 'nobly', 'thumb-up', 'well-received', 'glee', 'brighter', 'merriness', 'exhilaration', 'congratulations', 'cashback', 'flawless', 'optimism', 'enjoyable', 'lavishly', 'loveliness', 'idyllic', 'pinnacle', 'passion', 'top-notch', 'cure', 'entertaining', 'better', 'risk-free', 'pamper', 'jolly', 'majesty', 'triumphant', 'geeky', 'tantalizing', 'stellar', 'headway', 'reconciliation', 'quiet', 'cooperatively', 'redemption', 'kid-friendly', 'zippy', 'merry', 'nourishment', 'gaily', 'valiantly', 'unlimited', 'beautify', 'miracles', 'praise', 'gratify', 'ecstasy', 'benefactor', 'fastest-growing', 'restructure', 'eases', 'assuredly', 'unequivocal', 'agile', 'sincere', 'inspiring', 'exalting', 'trustworthy', 'grand', 'trusting', 'astound', 'ethical', 'user-replaceable', 'leverage', 'amiability', 'inspiration', 'enrich', 'ebullient', 'worthy', 'everlasting', 'marvellous', 'personalized', 'cool', 'bravo', 'contentment', 'peacekeepers', 'miraculously', 'feisty', 'effusiveness', 'amply', 'accessable', 'cuteness', 'sociable', 'outdo', 'capability', 'awestruck', 'feature-rich', 'responsive', 'shimmering', 'welcome', 'awarded', 'thrillingly', 'bargain', 'brighten', 'gratifies', 'inspire', 'simplify', 'charmingly', 'indulgence', 'fortunate', 'happier', 'fortunately', 'satisfies', 'spiritual', 'profoundly', 'prudent', 'boundless', 'proves', 'steadfastness', 'well-informed', 'unrivaled', 'eager', 'reform', 'masterpiece', 'commend', 'hard-working', 'graciously', 'striking', 'generous', 'diligence', 'clever', 'rewarding', 'redeem', 'stable', 'top-quality', 'stabilize', 'flattering', 'favored', 'prompt', 'fervid', 'excitingly', 'embolden', 'astonishment', 'precisely', 'terrific', 'boom', 'rapport', 'talented', 'ready', 'meaningful', 'advantage', 'spectacular', 'remarkable', 'upgradeable', 'perfect', 'brilliance', 'raptureous', 'supports', 'trophy', 'glow', 'stimulative', 'competitive', 'authentic', 'quaint', 'restored', 'decisive', 'grandeur', 'exceeds', 'recovery', 'premier', 'sensation', 'sleek', 'dote', 'astonish', 'detachable', 'ample', 'knowledgeable', 'momentous', 'famously', 'triumph', 'breathlessness', 'confidence', 'dumbfounding', 'saintliness', 'spontaneous', 'blockbuster', 'complements', 'prodigy', 'impartially', 'solace', 'powerfully', 'fave', 'viewable', 'gladden', 'attentive', 'satisified', 'vivid', 'bravery', 'cute', 'low-cost', 'inestimable', 'fulfillment', 'humane', 'benevolent', 'humourous', 'reaffirmation', 'first-rate', 'stylish', 'kindliness', 'truthful', 'accommodative', 'eloquence', 'prolific', 'consistently', 'captivate', 'unbound', 'smiling', 'glimmering', 'neatest', 'desirable', 'quieter', 'enchanting', 'earnestness', 'savings', 'devout', 'well-connected', 'elegantly', 'logical', 'achievements', 'daringly', 'soundness', 'amicably', 'brainiest', 'effective', 'rejuvenate', 'suffices', 'conciliatory', 'sensationally', 'triumphal', 'honoring', 'dazzle', 'fast-growing', 'friendly', 'advocated', 'exonerate', 'well-managed', 'prospros', 'realizable', 'envious', 'intimate', 'exquisite', 'helped', 'upheld', 'faithful', 'well-established', 'innovation', 'ingenious', 'thrilling', 'favorite', 'worth', 'warm', 'mature', 'sharper', 'resourcefulness', 'well-being', 'miraculousness', 'appreciative', 'flutter', 'idol', 'likes', 'divine', 'restful', 'self-sufficiency', 'complement', 'ergonomical', 'thumbs-up', 'blossom', 'swanky', 'foolproof', 'commodious', 'pleasure', 'elan', 'peps', 'comfortable', 'congratulation', 'lovable', 'intelligence', 'succes', 'handsomely', 'convincingly', 'champion', 'deginified', 'merrily', 'unfettered', 'versatility', 'vouch', 'persevere', 'dextrous', 'idealize', 'razor-sharp', 'satisfactorily', 'progress', 'easing', 'propitious', 'dazzled', 'chivalry', 'assurances', 'high-quality', 'protection', 'thrill', 'formidable', 'worked', 'excels', 'treasure', 'promised', 'profusion', 'honest', 'irreplaceable', 'works', 'obsessions', 'contrasty', 'supporter', 'revive', 'humility', 'lively', 'friendliness', 'upgradable', 'clarity', 'hot', 'diversified', 'thoughtful', 'ardent', 'recommend', 'dynamic', 'sweet', 'supremacy', 'lavish', 'advocates', 'well-balanced', 'easygoing', 'principled', 'expansive', 'dauntless', 'enrichment', 'fabulously', 'eagerness', 'advantageous', 'freedoms', 'examplar', 'fav', 'glitz', 'revival', 'advantageously', 'dignified', 'easy-to-use', 'qualify', 'fantastic', 'appreciable', 'respite', 'gained', 'fun', 'novelty', 'supreme', 'cherished', 'openness', 'pleasurable', 'reasonable', 'tolerable', 'exceeded', 'continuity', 'astounding', 'excitement', 'impressive', 'marvelously', 'doubtless', 'eminence', 'encouraging', 'proficiently', 'decency', 'unfazed', 'merit', 'festive', 'harmonize', 'irresistible', 'fabulous', 'affirmative', 'mesmerizing', 'outwit', 'dead-on', 'assuring', 'hug', 'envy', 'admiring', 'reconcile', 'smart', 'strikingly', 'enhanced', 'consistent', 'thrifty', 'abounds', 'idolized', 'deservedly', 'galore', 'unrestricted', 'roomy', 'lower-priced', 'attractively', 'supportive', 'immaculately', 'poetic', 'faithfully', 'interesting', 'slammin', 'kindly', 'wins', 'world-famous', 'swiftness', 'credible', 'poised', 'prosperous', 'spellbinding', 'outstanding', 'well', 'tougher', 'holy', 'encourage', 'robust', 'skillful', 'meticulous', 'like', 'fortune', 'time-honored', 'grin', 'encouragingly', 'impassioned', 'calm', 'gallant', 'pleasing', 'heavenly', 'law-abiding', 'crisp', 'goodly', 'talents', 'perfection', 'dazzling', 'recomend', 'exceptionally', 'fragrant', 'tough', 'amicability', 'impartial', 'coherence', 'convient', 'innocuous', 'sufficiently', 'revere', 'ecenomical', 'smoother', 'complementary', 'laudably', 'salutary', 'comforting', 'accolades', 'refreshed', 'beckoning', 'excellent', 'peaceful', 'pleases', 'confident', 'permissible', 'luxuriously', 'bonus', 'well-intentioned', 'winning', 'wonders', 'pluses', 'classic', 'impeccable', 'timely', 'remarkably', 'satisfied', 'chaste', 'fanfare', 'gumption', 'sturdy', 'subsidize', 'refresh', 'imaginative', 'gleeful', 'contribution', 'perfectly', 'prize', 'supple', 'abundance', 'preferring', 'catchy', 'adore', 'appreciate', 'polished', 'flexibility', 'feasibly', 'accolade', 'gentle', 'brave', 'heartfelt', 'sexy', 'thankful', 'noble', 'gratefully', 'extraordinary', 'ardently', 'illuminating', 'happy', 'exuberance', 'sparkling', 'safely', 'useful', 'destiny', 'courtly', 'honor', 'humor', 'monumental', 'gratifyingly', 'achievement', 'ambitiously', 'fortitude', 'rich', 'energy-efficient', 'love', 'exalt', 'lucky', 'enhance', 'stupendous', 'proper', 'charisma', 'frolic', 'adulatory', 'suffice', 'glitter', 'traction', 'marvel', 'thrills', 'rectification', 'improve', 'beauteous', 'uplifting', 'pain-free', 'piety', 'ecstasies', 'appreciatively', 'coherent', 'trusted', 'fans', 'nourishing', 'supurbly', 'renewed', 'well-regarded', 'pure', 'easiness', 'gooood', 'sharp', 'danken', 'masters', 'securely', 'marveled', 'fruitful', 'balanced', 'effusive', 'glory', 'refunded', 'gem', 'neat', 'endorsing', 'adored', 'protective', 'redeeming', 'proving', 'unassailable', 'acclaimed', 'elevate', 'better-than-expected', 'fearless', 'fondness', 'reasoned', 'simpler', 'goodness', 'enticed', 'attune', 'prowess', 'mercifully', 'great', 'long-lasting', 'chivalrous', 'breeze', 'mesmerizes', 'infallibly', 'fresher', 'chic', 'awards', 'astonishing', 'eminent', 'soulful', 'loves', 'stunned', 'vibrant', 'stylishly', 'intriguingly', 'reaffirm', 'reverence', 'fertile', 'oasis', 'painlessly', 'agilely', 'invincible', 'improving', 'stimulating', 'won', 'rectifying', 'awed', 'respect', 'decent', 'effusively', 'bliss', 'efficiently', 'rejoicingly', 'talent', 'dependable', 'pamperedly', 'examplary', 'evocative', 'fascinatingly', 'ideally', 'substantive', 'visionary', 'amazing', 'sporty', 'virtue', 'daring', 'fine', 'diligently', 'dawn', 'relaxed', 'uphold', 'indebted', 'wondrous', 'unquestionably', 'glorify', 'useable', 'impress', 'heroically', 'economical', 'privilege', 'variety', 'kindness', 'sweetness', 'originality', 'propitiously', 'authoritative', 'resilient', 'avidly', 'qualified', 'receptive', 'revolutionary', 'prefered', 'guarantee', 'improves', 'retractable', 'honored', 'heal', 'upbeat', 'glowingly', 'cheer', 'extoll', 'fidelity', 'dominate', 'stainless', 'whoooa', 'genial', 'poeticize', 'breakthrough', 'vivacious', 'beckon', 'succeeded', 'avid', 'self-determination', 'satisfactory', 'splendid', 'scenic', 'afford', 'exellent', 'clean', 'led', 'concise', 'outstandingly', 'stronger', 'affirmation', 'convienient', 'affordably', 'fortuitously', 'golden', 'perseverance', 'pleasant', 'adoring', 'user-friendly', 'palatial', 'relief', 'succeeds', 'well-run', 'courteous', 'productive', 'eulogize', 'brotherly', 'pleasurably', 'charm', 'defeats', 'unbiased', 'raptureously', 'undamaged', 'streamlined', 'audibly', 'pepping', 'felicitous', 'enjoyment', 'beautifullly', 'marvelled', 'victory', 'swankiest', 'amusing', 'backbone', 'heroize', 'illuminati', 'relish', 'adorer', 'gratifying', 'dignify', 'refine', 'generously', 'salute', 'rapturous', 'pardon', 'nourish', 'versatile', 'wonderous', 'charming', 'flourishing', 'fancier', 'amazement', 'cure-all', 'beloved', 'sagacity', 'trouble-free', 'passionately', 'admire', 'fashionable', 'colorful', 'fair', 'amicable', 'astounded', 'agreeableness', 'ennoble', 'fairness', 'rapturously', 'excallent', 'reclaim', 'captivating', 'danke', 'fairly', 'exultingly', 'leading', 'gentlest', 'affordable', 'peppy', 'freshest', 'genius', 'sweeten', 'incredible', 'goood', 'hero', 'tranquil', 'beneficially', 'advantages', 'supported', 'feasible', 'truthfully', 'admiringly', 'patriot', 'orderly', 'celebration', 'luxuriant', 'pleasantly', 'witty', 'jubiliant', 'affectionate', 'solicitously', 'proficient', 'richness', 'warmly', 'smitten', 'instrumental', 'aver', 'preferes', 'prestigious', 'infallible', 'bloom', 'striving', 'toughest', 'wonderfully', 'adoringly', 'irresistibly', 'loving', 'peerless', 'warmhearted', 'quicker', 'picturesque', 'proud', 'stylized', 'compact', 'gallantly', 'peach', 'cozy', 'enviously', 'overtaken', 'hopeful', 'compassion', 'peacefully', 'enticingly', 'nicely', 'blithe', 'fortuitous', 'amaze', 'skill', 'enthusiasm', 'supremely', 'ameliorate', 'self-sufficient', 'convience', 'well-backlit', 'plusses', 'providence', 'refinement', 'gusto', 'recover'}\n"
     ]
    }
   ],
   "source": [
    "#opinion_lexicon.words()[:4]\n",
    "pos_list = set(opinion_lexicon.positive())\n",
    "neg_list = set(opinion_lexicon.negative())\n",
    "#print (pos_list)"
   ]
  },
  {
   "cell_type": "code",
   "execution_count": 140,
   "metadata": {},
   "outputs": [],
   "source": [
    "def sentiment(sentence):\n",
    "    senti=0\n",
    "    votes = 0\n",
    "    # zur sicherheit kleinbuchstaben ...\n",
    "    words = [word.lower() for word in word_tokenize(sentence)]\n",
    "    for word in words:\n",
    "        if word in pos_list:\n",
    "            senti += 1\n",
    "            votes += 1\n",
    "        elif word in neg_list:\n",
    "            senti -= 1\n",
    "            votes += 1  \n",
    "    if (votes):\n",
    "        return senti/votes\n",
    "    else:\n",
    "        # hier kann nur null rauskommen\n",
    "        return senti"
   ]
  },
  {
   "cell_type": "code",
   "execution_count": 141,
   "metadata": {},
   "outputs": [],
   "source": [
    "df_small['sentiment']=df_small.cleaned_reviews.apply(sentiment)"
   ]
  },
  {
   "cell_type": "code",
   "execution_count": 145,
   "metadata": {},
   "outputs": [
    {
     "name": "stdout",
     "output_type": "stream",
     "text": [
      "      ratings  sentiment\n",
      "0         1.0  -1.000000\n",
      "1         4.0  -0.230769\n",
      "2         3.0   1.000000\n",
      "3         3.0   1.000000\n",
      "4         2.0   0.777778\n",
      "...       ...        ...\n",
      "4495      1.0  -0.600000\n",
      "4496      5.0   1.000000\n",
      "4497      2.0  -0.333333\n",
      "4498      4.0   1.000000\n",
      "4499      4.0   0.333333\n",
      "\n",
      "[4500 rows x 2 columns]\n"
     ]
    }
   ],
   "source": [
    "print (df_small[['ratings', 'sentiment']])"
   ]
  },
  {
   "cell_type": "code",
   "execution_count": 147,
   "metadata": {},
   "outputs": [
    {
     "data": {
      "text/plain": [
       "<matplotlib.axes._subplots.AxesSubplot at 0x1665a56e148>"
      ]
     },
     "execution_count": 147,
     "metadata": {},
     "output_type": "execute_result"
    },
    {
     "data": {
      "image/png": "[encoded data removed]",
      "text/plain": [
       "<Figure size 432x288 with 1 Axes>"
      ]
     },
     "metadata": {
      "needs_background": "light"
     },
     "output_type": "display_data"
    }
   ],
   "source": [
    "df_small.ratings.hist(bins = 100)"
   ]
  },
  {
   "cell_type": "code",
   "execution_count": 148,
   "metadata": {},
   "outputs": [
    {
     "data": {
      "text/plain": [
       "<matplotlib.axes._subplots.AxesSubplot at 0x1665a67e148>"
      ]
     },
     "execution_count": 148,
     "metadata": {},
     "output_type": "execute_result"
    },
    {
     "data": {
      "image/png": "[encoded data removed]",
      "text/plain": [
       "<Figure size 432x288 with 1 Axes>"
      ]
     },
     "metadata": {
      "needs_background": "light"
     },
     "output_type": "display_data"
    }
   ],
   "source": [
    "df_small.sentiment.hist(bins = 100)"
   ]
  },
  {
   "cell_type": "code",
   "execution_count": 151,
   "metadata": {},
   "outputs": [
    {
     "data": {
      "text/plain": [
       "<matplotlib.collections.PathCollection at 0x1665a2d4808>"
      ]
     },
     "execution_count": 151,
     "metadata": {},
     "output_type": "execute_result"
    },
    {
     "data": {
      "image/png": "[encoded data removed]",
      "text/plain": [
       "<Figure size 432x288 with 1 Axes>"
      ]
     },
     "metadata": {
      "needs_background": "light"
     },
     "output_type": "display_data"
    }
   ],
   "source": [
    "import matplotlib.pyplot as plt\n",
    "plt.scatter (df_small['sentiment'], df_small['ratings'])"
   ]
  }
 ],
 "metadata": {
  "colab": {
   "collapsed_sections": [],
   "name": "LPLMDL Task 1",
   "provenance": []
  },
  "kernelspec": {
   "display_name": "Python 3",
   "language": "python",
   "name": "python3"
  },
  "language_info": {
   "codemirror_mode": {
    "name": "ipython",
    "version": 3
   },
   "file_extension": ".py",
   "mimetype": "text/x-python",
   "name": "python",
   "nbconvert_exporter": "python",
   "pygments_lexer": "ipython3",
   "version": "3.7.7"
  }
 },
 "nbformat": 4,
 "nbformat_minor": 1
}
